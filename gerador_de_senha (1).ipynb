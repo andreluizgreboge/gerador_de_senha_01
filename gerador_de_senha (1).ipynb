{
  "nbformat": 4,
  "nbformat_minor": 0,
  "metadata": {
    "colab": {
      "name": "gerador_de_senha.ipynb",
      "provenance": []
    },
    "kernelspec": {
      "name": "python3",
      "display_name": "Python 3"
    },
    "language_info": {
      "name": "python"
    }
  },
  "cells": [
    {
      "cell_type": "code",
      "metadata": {
        "id": "9pHkOsXz_1dm"
      },
      "source": [
        "import random as r\n",
        "\n",
        "size = int(input('Escolha quanto digitos você deseja: '))\n",
        "\n",
        "char = 'abcdefghijklmnopqrstuvwxyzABCDEFGHIJKLMNOPQRSTUVWXYZ0123456789%^*(-_=+)'\n",
        "pw = ''.join([char[r.randint(0,len(char)-1)] for i in range(size)])\n",
        "v = '\\n'\n",
        "print(v,pw,v)"
      ],
      "execution_count": null,
      "outputs": []
    },
    {
      "cell_type": "code",
      "metadata": {
        "id": "eIPTuhmP_9mM"
      },
      "source": [
        ""
      ],
      "execution_count": null,
      "outputs": []
    }
  ]
}